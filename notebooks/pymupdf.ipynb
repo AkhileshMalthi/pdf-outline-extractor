{
 "cells": [
  {
   "cell_type": "code",
   "execution_count": 2,
   "id": "bc6e8ab2",
   "metadata": {},
   "outputs": [],
   "source": [
    "import pymupdf"
   ]
  },
  {
   "cell_type": "code",
   "execution_count": null,
   "id": "d42fe286",
   "metadata": {},
   "outputs": [],
   "source": [
    "filename = \"E0CCG5S239.pdf\" # specify your PDF file name\n",
    "\n",
    "if not filename.endswith(\".pdf\"):\n",
    "    raise ValueError(\"The file must be a PDF document.\")\n",
    "\n",
    "doc = pymupdf.open(filename=filename) # open a document\n",
    "out = open(filename.replace(\".pdf\", \".txt\"), \"wb\") # create a text output\n",
    "for page in doc: # iterate the document pages\n",
    "    text = page.get_text().encode(\"utf8\") # get plain text (is in UTF-8)\n",
    "    out.write(text) # write text of page\n",
    "    out.write(bytes((12,))) # write page delimiter (form feed 0x0C)\n",
    "out.close()"
   ]
  },
  {
   "cell_type": "code",
   "execution_count": null,
   "id": "4e9dabc8",
   "metadata": {},
   "outputs": [],
   "source": []
  }
 ],
 "metadata": {
  "kernelspec": {
   "display_name": "pdf-outline-extractor",
   "language": "python",
   "name": "python3"
  },
  "language_info": {
   "codemirror_mode": {
    "name": "ipython",
    "version": 3
   },
   "file_extension": ".py",
   "mimetype": "text/x-python",
   "name": "python",
   "nbconvert_exporter": "python",
   "pygments_lexer": "ipython3",
   "version": "3.12.11"
  }
 },
 "nbformat": 4,
 "nbformat_minor": 5
}
